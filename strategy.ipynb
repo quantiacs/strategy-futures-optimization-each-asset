{
 "cells": [
  {
   "cell_type": "markdown",
   "metadata": {},
   "source": [
    "# TA, find optimal parameters for each asset"
   ]
  },
  {
   "cell_type": "markdown",
   "metadata": {},
   "source": [
    " This template demonstrates how to find optimal parameters for each asset.\n",
    "\n",
    "It allows you to develop a strategy which will pass the filters easily.\n",
    "\n",
    "When you start writing your strategies, the easiest way is to use technical analysis. But pure technical analysis, probably, won't work. You have to adjust parameters of technical indicators each asset.\n",
    "\n",
    "However, there is a big risk to create an overfitting strategy, when you use such an optimization. There is way how to reduce the impact of overfitting. Instead of using the one optimal parameter set per asset, you can use several paremeters each asset. This example demonstrates how to do it."
   ]
  },
  {
   "cell_type": "markdown",
   "metadata": {},
   "source": [
    "## Base strategy"
   ]
  },
  {
   "cell_type": "code",
   "execution_count": null,
   "metadata": {},
   "outputs": [],
   "source": [
    "%%javascript\n",
    "window.IPython && (IPython.OutputArea.prototype._should_scroll = function(lines) { return false; })\n",
    "// disable widget scrolling"
   ]
  },
  {
   "cell_type": "code",
   "execution_count": null,
   "metadata": {},
   "outputs": [],
   "source": [
    "import json\n",
    "\n",
    "import xarray as xr\n",
    "import numpy as np\n",
    "import pandas as pd\n",
    "\n",
    "import qnt.data as qndata          # data loading and manipulation\n",
    "import qnt.stats as qnstats        # key statistics\n",
    "import qnt.graph as qngraph        # graphical tools\n",
    "import qnt.ta as qnta              # technical analysis indicators\n",
    "import qnt.output as qnout         # for writing output\n",
    "import qnt.log as qnlog            # log configuration\n",
    "import qnt.optimizer as qno        # optimizer\n",
    "\n",
    "# display function for fancy displaying:\n",
    "from IPython.display import display\n",
    "# lib for charts\n",
    "import plotly.graph_objs as go"
   ]
  },
  {
   "cell_type": "code",
   "execution_count": null,
   "metadata": {},
   "outputs": [],
   "source": [
    "data = qndata.futures_load_data(min_date='2005-01-01')"
   ]
  },
  {
   "cell_type": "markdown",
   "metadata": {},
   "source": [
    "At first, let's start with a simple **trend based strategy**."
   ]
  },
  {
   "cell_type": "code",
   "execution_count": null,
   "metadata": {},
   "outputs": [],
   "source": [
    "def strategy_long(data, asset=None, ma_period=150):\n",
    "    # filter by asset, we need it for optimization\n",
    "    if asset is not None:\n",
    "        data = data.sel(asset=[asset])\n",
    "        \n",
    "    close = data.sel(field='close')\n",
    "\n",
    "    ma = qnta.lwma(close, ma_period)\n",
    "    ma_roc = qnta.roc(ma, 1) \n",
    "    \n",
    "    # define signals\n",
    "    buy_signal = ma_roc > 0\n",
    "    stop_signal = ma_roc < 0\n",
    "    \n",
    "    # rsi = qnta.rsi(close, rsi_period)\n",
    "    # buy_signal = np.logical_and(rsi < 30, ma_roc > 0)\n",
    "    # stop_signal = np.logical_or(rsi > 90, ma_roc < 0)\n",
    "\n",
    "    # transform signals to positions    \n",
    "    position = xr.where(buy_signal, 1, np.nan)\n",
    "    position = xr.where(stop_signal, 0, position)\n",
    "    position = position.ffill('time').fillna(0)\n",
    "    \n",
    "    # clean the output (not necessary)\n",
    "    # with qnlog.Settings(info=False,err=False): # suppress logging\n",
    "    #     position = qnout.clean(position, data)\n",
    "    return position"
   ]
  },
  {
   "cell_type": "markdown",
   "metadata": {},
   "source": [
    "Next, see the **performance** of the strategy"
   ]
  },
  {
   "cell_type": "code",
   "execution_count": null,
   "metadata": {},
   "outputs": [],
   "source": [
    "#DEBUG#\n",
    "# evaluator will remove cells with such marks before evaluation\n",
    "\n",
    "output = strategy_long(data)\n",
    "stats = qnstats.calc_stat(data, output.sel(time=slice('2006-01-01',None)))\n",
    "display(stats.to_pandas().tail())"
   ]
  },
  {
   "cell_type": "markdown",
   "metadata": {},
   "source": [
    "## Search for optimal parameters for all assets."
   ]
  },
  {
   "cell_type": "markdown",
   "metadata": {},
   "source": [
    "Let's try to optimize the strategy for all assets and see the performance."
   ]
  },
  {
   "cell_type": "code",
   "execution_count": null,
   "metadata": {},
   "outputs": [],
   "source": [
    "#DEBUG#\n",
    "# evaluator will remove cells with such marks before evaluation\n",
    "\n",
    "result_for_all = qno.optimize_strategy(\n",
    "    data,\n",
    "    strategy_long,\n",
    "    qno.full_range_args_generator(ma_period=range(10, 200, 10)),\n",
    "    workers=1 # you can set more workers on your local PC to speed up\n",
    ")"
   ]
  },
  {
   "cell_type": "code",
   "execution_count": null,
   "metadata": {},
   "outputs": [],
   "source": [
    "#DEBUG#\n",
    "# evaluator will remove cells with such marks before evaluation\n",
    "\n",
    "# chart\n",
    "scatter = go.Scatter(\n",
    "    x=[i['args']['ma_period'] for i in result_for_all['iterations']],\n",
    "    y=[i['result']['sharpe_ratio'] for i in  result_for_all['iterations']],\n",
    "    mode=\"markers\",\n",
    "    name=\"optimization result\",\n",
    "    marker_size=9,\n",
    "    marker_color='orange'\n",
    ")\n",
    "fig = go.Figure(data=scatter)\n",
    "# fig.update_yaxes(fixedrange=False) # unlock vertical scrolling\n",
    "fig.show()\n",
    "\n",
    "\n",
    "print(\"---\")\n",
    "print(\"Best iteration:\")\n",
    "display(result_for_all['best_iterations'][0])"
   ]
  },
  {
   "cell_type": "markdown",
   "metadata": {},
   "source": [
    "As you see, the result is still bad. That is why you need to optimize parameters per every asset."
   ]
  },
  {
   "cell_type": "markdown",
   "metadata": {},
   "source": [
    "## Search for optimal parameters for each asset.\n",
    "\n",
    "There is 1 parameter for this strategy `ma_period`.\n",
    "\n",
    "We will perform a full range scan. It will take about 11 minutes.\n"
   ]
  },
  {
   "cell_type": "code",
   "execution_count": null,
   "metadata": {},
   "outputs": [],
   "source": [
    "#DEBUG#\n",
    "# evaluator will remove cells with such marks before evaluation\n",
    "\n",
    "result_long = qno.optimize_strategy(\n",
    "    data,\n",
    "    strategy_long,\n",
    "    qno.full_range_args_generator(ma_period=range(10, 200, 10),\n",
    "                                  asset=data.asset.values.tolist()),\n",
    "    workers=1 # you can set more workers on your local PC to speed up\n",
    ")"
   ]
  },
  {
   "cell_type": "markdown",
   "metadata": {},
   "source": [
    "Observe the results:"
   ]
  },
  {
   "cell_type": "markdown",
   "metadata": {},
   "source": [
    "```python\n",
    "###DEBUG###\n",
    "# evaluator will remove cells with such marks before evaluation\n",
    "\n",
    "from ipywidgets import interact, interactive, fixed, interact_manual\n",
    "import ipywidgets as widgets\n",
    "\n",
    "assets_perf = [dict(\n",
    "    asset=asset,\n",
    "    sharpe=max(i['result']['sharpe_ratio'] for i in result_long['iterations'] if i['args']['asset'] == asset)\n",
    ") for asset in data.asset.values.tolist()]\n",
    "\n",
    "\n",
    "assets_perf.sort(key=lambda i: -i['sharpe'])\n",
    "\n",
    "\n",
    "@interact(asset=[(a['asset'] + (\" - %.2f\" % a['sharpe']), a['asset']) for a in assets_perf])\n",
    "def display_results(asset=assets_perf[0]['asset']):\n",
    "    asset_iterations = [i for i in result_long['iterations'] if i['args']['asset'] == asset]\n",
    "\n",
    "    scatter = go.Scatter(\n",
    "        x=[i['args']['ma_period'] for i in asset_iterations],\n",
    "        y=[i['result']['sharpe_ratio'] for i in asset_iterations],\n",
    "        mode=\"markers\",\n",
    "        name=\"optimization result\",\n",
    "        marker_size=9,\n",
    "        marker_color='orange'\n",
    "    ),\n",
    "\n",
    "    fig = go.Figure(data=scatter)\n",
    "    # fig.update_yaxes(fixedrange=False) # unlock vertical scrolling\n",
    "    fig.show()",
    "```"
   ]
  },
  {
   "cell_type": "markdown",
   "metadata": {},
   "source": [
    "## Select assets and optimal parameters"
   ]
  },
  {
   "cell_type": "markdown",
   "metadata": {},
   "source": [
    "Now, you can select best parameters each asset. \n",
    "There is a big chance that you will overfit your strategy.\n",
    "So we will select multiple suitable paremeters for every asset.\n",
    "\n",
    "We will select 15 good assets for the strategy.\n",
    "And we will select 3 best suitable parameters per selected asset. The more the better. It will be less likely that your strategy is overfitting."
   ]
  },
  {
   "cell_type": "code",
   "execution_count": null,
   "metadata": {},
   "outputs": [],
   "source": [
    "#DEBUG#\n",
    "# evaluator will remove cells with such marks before evaluation\n",
    "\n",
    "def find_best_parameters(result, asset_count, parameter_set_count):\n",
    "    assets = data.asset.values.tolist()\n",
    "    assets.sort(key=lambda a: -asset_weight(result, a, parameter_set_count))\n",
    "    assets = assets[:asset_count]\n",
    "    params = []\n",
    "    for a in assets:\n",
    "        params += get_best_parameters_for_asset(result, a, parameter_set_count)\n",
    "    return params\n",
    "\n",
    "\n",
    "def asset_weight(result, asset, parameter_set_count):\n",
    "    asset_iterations = [i for i in result['iterations'] if i['args']['asset'] == asset]\n",
    "    asset_iterations.sort(key=lambda i: -i['result']['sharpe_ratio'])\n",
    "    # weight is a sum of the three best iterations\n",
    "    return sum(i['result']['sharpe_ratio'] for i in asset_iterations[:parameter_set_count])\n",
    "\n",
    "\n",
    "def get_best_parameters_for_asset(result, asset, parameter_set_count):\n",
    "    asset_iterations = [i for i in result['iterations'] if i['args']['asset'] == asset]\n",
    "    asset_iterations.sort(key=lambda i: -i['result']['sharpe_ratio'])\n",
    "    return [i['args'] for i in asset_iterations[:parameter_set_count]]\n",
    "\n",
    "\n",
    "config = find_best_parameters(result=result_long, asset_count=15, parameter_set_count=3)\n",
    "# If you change the asset_count and/or parameters_count, you will get a new strategy.\n",
    "\n",
    "json.dump(config, open('config.json', 'w'), indent=2)\n",
    "\n",
    "display(config)"
   ]
  },
  {
   "cell_type": "markdown",
   "metadata": {},
   "source": [
    "We save config to the file and then load because the all cells with `##DEBUG###` will be removed."
   ]
  },
  {
   "cell_type": "code",
   "execution_count": null,
   "metadata": {},
   "outputs": [],
   "source": [
    "config = json.load(open('config.json', 'r'))"
   ]
  },
  {
   "cell_type": "markdown",
   "metadata": {},
   "source": [
    "Define the result strategy:"
   ]
  },
  {
   "cell_type": "code",
   "execution_count": null,
   "metadata": {},
   "outputs": [],
   "source": [
    "def optmized_strategy(data, config):\n",
    "    results = []\n",
    "    for c in config:\n",
    "        results.append(strategy_long(data, **c))\n",
    "    # align and join results\n",
    "    results = xr.align(*results, join='outer')\n",
    "    results = [r.fillna(0) for r in results]\n",
    "    output = sum(results) / len(results)\n",
    "    return output"
   ]
  },
  {
   "cell_type": "markdown",
   "metadata": {},
   "source": [
    "## Result\n",
    "Let's see the **performance** of the optimized strategy."
   ]
  },
  {
   "cell_type": "code",
   "execution_count": null,
   "metadata": {},
   "outputs": [],
   "source": [
    "output = optmized_strategy(data, config)\n",
    "output = qnout.clean(output, data) # fix common issues\n",
    "\n",
    "qnout.check(output, data) \n",
    "qnout.write(output)\n",
    "\n",
    "stats = qnstats.calc_stat(data, output.sel(time=slice('2006-01-01',None)))\n",
    "display(stats.to_pandas().tail())\n",
    "qngraph.make_major_plots(stats)"
   ]
  },
  {
   "cell_type": "markdown",
   "metadata": {},
   "source": [
    "The performance is good. Finally, write the output."
   ]
  },
  {
   "cell_type": "markdown",
   "metadata": {},
   "source": [
    "> We recommend to do research and optimization in a separate notebook.\n",
    "Leave only final code in `strategy.ipynb`.\n",
    "\n",
    "\n",
    "The final code for the strategy with multi-pass backtester(looking forward test):"
   ]
  },
  {
   "cell_type": "markdown",
   "metadata": {},
   "source": [
    "```python\n",
    "import json\n",
    "\n",
    "import xarray as xr\n",
    "import xarray.ufuncs as xruf\n",
    "import numpy as np\n",
    "import pandas as pd\n",
    "\n",
    "import qnt.data as qndata\n",
    "import qnt.stats as qnstats\n",
    "import qnt.graph as qngraph\n",
    "import qnt.ta as qnta\n",
    "import qnt.output as qnout\n",
    "import qnt.log as qnlog\n",
    "import qnt.optimizer as qno\n",
    "import qnt.backtester as qnbk\n",
    "\n",
    "\n",
    "def strategy_long(data, asset=None, ma_period=150):\n",
    "    # filter by asset, we will need it for further optimization\n",
    "    if asset is not None:\n",
    "        data = data.sel(asset=[asset])\n",
    "\n",
    "    close = data.sel(field='close')\n",
    "\n",
    "    ma = qnta.lwma(close, ma_period)\n",
    "    ma_roc = qnta.roc(ma, 1)\n",
    "\n",
    "    # define signal\n",
    "    buy_signal = ma_roc > 0\n",
    "    buy_stop_signal = ma_roc < 0\n",
    "\n",
    "    # transform signals to positions\n",
    "    position = xr.where(buy_signal, 1, np.nan)\n",
    "    position = xr.where(buy_stop_signal, 0, position)\n",
    "    position = position.ffill('time').fillna(0)\n",
    "\n",
    "    # clean the output (not necessary)\n",
    "    # with qnlog.Settings(info=False,err=False): # suppress logging\n",
    "    #     position = qnout.clean(position, data)\n",
    "    return position\n",
    "\n",
    "\n",
    "def optmized_strategy(data, config):\n",
    "    results = []\n",
    "    for c in config:\n",
    "        results.append(strategy_long(data, **c))\n",
    "    # align and join results\n",
    "    results = xr.align(*results, join='outer')\n",
    "    results = [r.fillna(0) for r in results]\n",
    "    output = sum(results) / len(results)\n",
    "    return output\n",
    "\n",
    "\n",
    "config = json.load(open('config.json', 'r'))\n",
    "\n",
    "# multi-pass\n",
    "# It may look slow, but it is ok. The evaluator will run only one iteration per day.\n",
    "qnbk.backtest(\n",
    "    competition_type='futures',\n",
    "    lookback_period=365,\n",
    "    strategy=lambda d: optmized_strategy(d, config),\n",
    "    # strategy=strategy_long, # you can check the base strategy too\n",
    "    start_date='2006-01-01'\n",
    ")\n",
    "\n",
    "# # single-pass\n",
    "# data = qndata.futures_load_data(min_date='2005-01-01')\n",
    "\n",
    "# output = optmized_strategy(data, config)\n",
    "# output = qnout.clean(output, data)\n",
    "\n",
    "# stats = qnstats.calc_stat(data, output.sel(time=slice('2006-01-01',None)))\n",
    "# display(stats.to_pandas().tail())\n",
    "# qngraph.make_major_plots(stats)\n",
    "\n",
    "# qnout.check(output, data)\n",
    "# qnout.write(output)\n",
    "\n",
    "```"
   ]
  },
  {
   "cell_type": "markdown",
   "metadata": {},
   "source": [
    "# P.S.\n",
    "In practice, it makes sense to split the data into the \"train\" set and the \"test\" set.\n",
    "\n",
    "The train set may contain all data excepting the 1-3 last years. The test set will contain these 1-3 last years.\n",
    "\n",
    "To check the real performance of your strategy and detect the overfitting, optimize parameters using the train set and test you strategy using the \"test\" set. It will give you a clue.\n",
    "\n",
    "Before the submission, run your optimizer using all available data. "
   ]
  }
 ],
 "metadata": {
  "kernelspec": {
   "display_name": "Python 3",
   "language": "python",
   "name": "python3"
  },
  "language_info": {
   "codemirror_mode": {
    "name": "ipython",
    "version": 3
   },
   "file_extension": ".py",
   "mimetype": "text/x-python",
   "name": "python",
   "nbconvert_exporter": "python",
   "pygments_lexer": "ipython3",
   "version": "3.7.10"
  }
 },
 "nbformat": 4,
 "nbformat_minor": 4
}
